{
 "cells": [
  {
   "cell_type": "code",
   "execution_count": 6,
   "outputs": [],
   "source": [
    "import requests\n",
    "import pandas as pd\n",
    "import re\n",
    "from bs4 import BeautifulSoup\n",
    "import pickle5 as pickle"
   ],
   "metadata": {
    "collapsed": false
   }
  },
  {
   "cell_type": "markdown",
   "source": [
    "## Writing a function that downloads directly lyrics and stores them in a dict"
   ],
   "metadata": {
    "collapsed": false
   }
  },
  {
   "cell_type": "code",
   "execution_count": 2,
   "metadata": {
    "collapsed": true
   },
   "outputs": [],
   "source": [
    "def main():\n",
    "    #Ask user for the artist suffix\n",
    "    artist_suffix = input(\"What is the page of your artist - https://www.lyrics.com/artist/...?:\")\n",
    "    artist_page = \"https://www.lyrics.com/artist/\" + artist_suffix\n",
    "\n",
    "    #Get the relative link of all songs from the artist page, find songs that are listed more than once\n",
    "    links, multiple = get_unique_links(artist_page)\n",
    "\n",
    "    #If lyrics available, add them to a dic\n",
    "    new_links, artist_name, dic_lyrics = download_save_lyrics(links)\n",
    "\n",
    "    #print_stat\n",
    "    print_stats(artist_name, links, new_links, multiple)\n",
    "\n",
    "    return dic_lyrics\n",
    "\n",
    "\n",
    "def get_unique_links(link):\n",
    "    \"\"\"\n",
    "    Generates a list with relative links to songs on lyrics.com and a list with titles that have been listed multiple times\n",
    "    :param link: Link to artist page as string\n",
    "    :return: two lists: 1. unique links to lyrics, 2. Titles of songs listed more than once\n",
    "    \"\"\"\n",
    "    r = requests.get(link)\n",
    "    pattern_1 = '\"(/lyric\\/.*?)\"'\n",
    "    matches_1 = re.findall(pattern=pattern_1, string=r.text)\n",
    "\n",
    "    title = []\n",
    "    unique_rel_links = []\n",
    "    multiple = []\n",
    "\n",
    "    for match in matches_1:\n",
    "        pattern_2 = \"/lyric\\/[\\d]*\\/.*?\\/(.*?)$\"\n",
    "        match_2 = re.findall(pattern=pattern_2, string=match)[0]\n",
    "        if not match_2 in title:\n",
    "            unique_rel_links.append(match)\n",
    "            title.append(match_2)\n",
    "        else:\n",
    "            multiple.append(match_2)\n",
    "\n",
    "    return unique_rel_links, multiple\n",
    "\n",
    "\n",
    "def download_save_lyrics(list_of_links):\n",
    "\n",
    "    artist_page = \"\"\n",
    "    artist = \"\"\n",
    "    dic = {}\n",
    "    new_list = list_of_links.copy()\n",
    "    no_text = list()\n",
    "\n",
    "    for i in range(len(list_of_links)):\n",
    "        link = \"http://www.lyrics.com/\" + list_of_links[i]\n",
    "        r = requests.get(link)\n",
    "        lyrics_page = BeautifulSoup(r.text, \"html.parser\")\n",
    "\n",
    "        #Only proceed when the html id can be found\n",
    "        if len(lyrics_page.findAll(id=\"lyric-body-text\")) > 0:\n",
    "            #Add the name of the artist during the first iteration\n",
    "            if len(artist) == 0:\n",
    "                artist = lyrics_page.find(\"div\", class_=\"artist-thumb\")[\"data-artist\"]\n",
    "\n",
    "            #Find the lyrics and add them to dic\n",
    "            song_title = lyrics_page.find(id=\"lyric-title-text\").text\n",
    "            lyrics = lyrics_page.find(id=\"lyric-body-text\").text.replace(\"\\n\", \" \").replace(\"\\r\", \" \")\n",
    "            dic[song_title] = lyrics\n",
    "        else:\n",
    "            no_text.append(list_of_links[i])\n",
    "\n",
    "    #Remove the songs without lyrics from the link list\n",
    "    for song in no_text:\n",
    "        new_list.remove(song)\n",
    "\n",
    "    return new_list, artist, dic\n",
    "\n",
    "\n",
    "def print_stats(artist, old_list, new_list, multiple_entries):\n",
    "    print(f\"Your chosen artist is: {artist}\\n\"\n",
    "          f\"Number of unique song entries found on lyrics.com: {len(old_list)}\\n\"\n",
    "          f\"Number of songs that were listed multiple times: {len(multiple_entries)}\\n\"\n",
    "          f\"Number of songs with lyrics: {len(new_list)}\")"
   ]
  },
  {
   "cell_type": "code",
   "execution_count": 3,
   "outputs": [
    {
     "name": "stdout",
     "output_type": "stream",
     "text": [
      "Your chosen artist is: Loyle Carner\n",
      "Number of unique song entries found on lyrics.com: 35\n",
      "Number of songs that were listed multiple times: 21\n",
      "Number of songs with lyrics: 27\n"
     ]
    }
   ],
   "source": [
    "lyrics_lc = main()"
   ],
   "metadata": {
    "collapsed": false
   }
  },
  {
   "cell_type": "markdown",
   "source": [
    "## Save file through pickle"
   ],
   "metadata": {
    "collapsed": false
   }
  },
  {
   "cell_type": "code",
   "execution_count": 7,
   "outputs": [],
   "source": [
    "with open('./data/lyrics_lc.pkl', 'wb') as f:\n",
    "    pickle.dump(lyrics_lc, f)"
   ],
   "metadata": {
    "collapsed": false
   }
  }
 ],
 "metadata": {
  "kernelspec": {
   "display_name": "Python 3",
   "language": "python",
   "name": "python3"
  },
  "language_info": {
   "codemirror_mode": {
    "name": "ipython",
    "version": 2
   },
   "file_extension": ".py",
   "mimetype": "text/x-python",
   "name": "python",
   "nbconvert_exporter": "python",
   "pygments_lexer": "ipython2",
   "version": "2.7.6"
  }
 },
 "nbformat": 4,
 "nbformat_minor": 0
}
