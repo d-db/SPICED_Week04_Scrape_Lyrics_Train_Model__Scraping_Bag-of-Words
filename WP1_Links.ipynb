{
 "cells": [
  {
   "cell_type": "code",
   "execution_count": 1,
   "outputs": [],
   "source": [
    "import requests\n",
    "import re\n",
    "from bs4 import BeautifulSoup\n",
    "import pickle5 as pickle"
   ],
   "metadata": {
    "collapsed": false
   }
  },
  {
   "cell_type": "markdown",
   "source": [
    "## 1. Write a function that gets the relative links of songs via regex"
   ],
   "metadata": {
    "collapsed": false
   }
  },
  {
   "cell_type": "code",
   "execution_count": 2,
   "outputs": [],
   "source": [
    "def get_unique_links(link):\n",
    "    \"\"\"\n",
    "    Generates a list with relative links to songs on lyrics.com and a list with titles that have been listed multiple times\n",
    "    :param link: Link to artist page as string\n",
    "    :return: two lists: 1. unique links to lyrics, 2. Titles of songs listed more than once\n",
    "    \"\"\"\n",
    "    r = requests.get(link)\n",
    "    pattern_1 = '\"(/lyric\\/.*?)\"'\n",
    "    matches_1 = re.findall(pattern=pattern_1, string=r.text)\n",
    "\n",
    "    title = []\n",
    "    unique_rel_links = []\n",
    "    multiple = []\n",
    "\n",
    "    for match in matches_1:\n",
    "        pattern_2 = \"/lyric\\/[\\d]*\\/.*?\\/(.*?)$\"\n",
    "        match_2 = re.findall(pattern=pattern_2, string=match)[0]\n",
    "        if not match_2 in title:\n",
    "            unique_rel_links.append(match)\n",
    "            title.append(match_2)\n",
    "        else:\n",
    "            multiple.append(match_2)\n",
    "\n",
    "    return unique_rel_links, multiple"
   ],
   "metadata": {
    "collapsed": false
   }
  },
  {
   "cell_type": "code",
   "execution_count": 3,
   "outputs": [],
   "source": [
    "links_fr, double_fr = get_unique_links(\"https://www.lyrics.com/artist/Frightened-Rabbit/807408\")"
   ],
   "metadata": {
    "collapsed": false
   }
  },
  {
   "cell_type": "code",
   "execution_count": 4,
   "outputs": [
    {
     "name": "stdout",
     "output_type": "stream",
     "text": [
      "There are 63 unique songs of 'Frightened Rabbit' listed on lyrics.com.\n",
      "60 songs have been listed more than one time.\n"
     ]
    }
   ],
   "source": [
    "print(f\"There are {len(links_fr)} unique songs of 'Frightened Rabbit' listed on lyrics.com.\\n\"\n",
    "      f\"{len(double_fr)} songs have been listed more than one time.\")"
   ],
   "metadata": {
    "collapsed": false
   }
  },
  {
   "cell_type": "code",
   "execution_count": 5,
   "outputs": [],
   "source": [
    "links_ga, double_ga = get_unique_links(\"https://www.lyrics.com/artist/The-Gaslight-Anthem/909493\")"
   ],
   "metadata": {
    "collapsed": false
   }
  },
  {
   "cell_type": "code",
   "execution_count": 6,
   "outputs": [
    {
     "name": "stdout",
     "output_type": "stream",
     "text": [
      "There are 94 unique songs of 'Gaslight Anthem' listed on lyrics.com.\n",
      "90 songs have been listed more than one time.\n"
     ]
    }
   ],
   "source": [
    "print(f\"There are {len(links_ga)} unique songs of 'Gaslight Anthem' listed on lyrics.com.\\n\"\n",
    "      f\"{len(double_ga)} songs have been listed more than one time.\")"
   ],
   "metadata": {
    "collapsed": false
   }
  },
  {
   "cell_type": "markdown",
   "source": [
    "## 2. Download the page with the lyrics and safe it as an HTML-file"
   ],
   "metadata": {
    "collapsed": false
   }
  },
  {
   "cell_type": "code",
   "execution_count": 7,
   "outputs": [],
   "source": [
    "def download_lyrics_save_html(list_of_links, path):\n",
    "    \"\"\"\n",
    "    Downloads the pages with the lyrics and returns a list with the relative link of songs that\n",
    "    actually have lyrics on lyrics.com\n",
    "    :param list_of_links: List of relative links of songs on lyrics.com\n",
    "    :param path: Path and filename of the generated HTML-files\n",
    "    :return: A list with the relative link of songs that actually have lyrics on lyrics.com\n",
    "    \"\"\"\n",
    "\n",
    "    new_list = list_of_links.copy()\n",
    "    no_text = list()\n",
    "    index = 1\n",
    "\n",
    "    for i in range(len(list_of_links)):\n",
    "        user_path = path + str(index) +\".html\"\n",
    "        link = \"http://www.lyrics.com/\" + list_of_links[i]\n",
    "        r = requests.get(link)\n",
    "        lyrics_page = BeautifulSoup(r.text, \"html.parser\")\n",
    "\n",
    "        # Only safe the file if the page contains the id\n",
    "        if len(lyrics_page.findAll(id=\"lyric-body-text\")) > 0:\n",
    "            with open(user_path, 'w') as the_file:\n",
    "                the_file.write(r.text)\n",
    "            index += 1\n",
    "        else:\n",
    "            no_text.append(list_of_links[i])\n",
    "\n",
    "    # Remove songs without lyrics from the initial list\n",
    "    for song in no_text:\n",
    "        new_list.remove(song)\n",
    "\n",
    "    return new_list"
   ],
   "metadata": {
    "collapsed": false
   }
  },
  {
   "cell_type": "code",
   "execution_count": 8,
   "outputs": [],
   "source": [
    "new_links_fr = download_lyrics_save_html(links_fr, \"./data/Frightened Rabbit/frightened_rabbit_\")"
   ],
   "metadata": {
    "collapsed": false
   }
  },
  {
   "cell_type": "code",
   "execution_count": 9,
   "outputs": [],
   "source": [
    "new_links_ga = download_lyrics_save_html(links_ga, \"./data/Gaslight Anthem/gaslight_anthem_\")"
   ],
   "metadata": {
    "collapsed": false
   }
  },
  {
   "cell_type": "markdown",
   "source": [
    "## 3. Loading the HTML-file, extract the lyrics with BeautifulSoup() and store them in a dict"
   ],
   "metadata": {
    "collapsed": false
   }
  },
  {
   "cell_type": "code",
   "execution_count": 10,
   "outputs": [],
   "source": [
    "def load_html_get_lyrics(nr_songs, path):\n",
    "    \"\"\"\n",
    "    Extracts the lyrics and saves them in a dict with the following format '[song title] : [lyrics]'\n",
    "    :param nr_songs: Amount of HTML-files as int\n",
    "    :param path: Path where the HTML-files are stored\n",
    "    :return: A dict with the following format '[song title] : [lyrics]'\n",
    "    \"\"\"\n",
    "\n",
    "    dic = {}\n",
    "\n",
    "\n",
    "    for i in range(nr_songs):\n",
    "        user_path = path + str(i+1) +\".html\"\n",
    "        with open(user_path, 'r') as f:\n",
    "            lyrics_page = BeautifulSoup(f, \"html.parser\")\n",
    "            song_title = lyrics_page.find(id=\"lyric-title-text\").text\n",
    "            lyrics = lyrics_page.find(id=\"lyric-body-text\").text.replace(\"\\n\", \" \").replace(\"\\r\", \" \")\n",
    "            dic[song_title] = lyrics\n",
    "\n",
    "    return dic"
   ],
   "metadata": {
    "collapsed": false
   }
  },
  {
   "cell_type": "code",
   "execution_count": 11,
   "outputs": [],
   "source": [
    "lyrics_fr = load_html_get_lyrics(len(new_links_fr), \"./data/Frightened Rabbit/frightened_rabbit_\")"
   ],
   "metadata": {
    "collapsed": false
   }
  },
  {
   "cell_type": "code",
   "execution_count": 12,
   "outputs": [],
   "source": [
    "lyrics_ga = load_html_get_lyrics(len(new_links_ga), \"./data/Gaslight Anthem/gaslight_anthem_\")"
   ],
   "metadata": {
    "collapsed": false
   }
  },
  {
   "cell_type": "markdown",
   "source": [
    "## 4. Safe the dicts via pickle"
   ],
   "metadata": {
    "collapsed": false
   }
  },
  {
   "cell_type": "code",
   "execution_count": 13,
   "outputs": [],
   "source": [
    "with open('./data/lyrics_fa.pkl', 'wb') as f:\n",
    "    pickle.dump(lyrics_fr, f)"
   ],
   "metadata": {
    "collapsed": false
   }
  },
  {
   "cell_type": "code",
   "execution_count": 14,
   "outputs": [],
   "source": [
    "with open('./data/lyrics_ga.pkl', 'wb') as f:\n",
    "    pickle.dump(lyrics_ga, f)"
   ],
   "metadata": {
    "collapsed": false
   }
  },
  {
   "cell_type": "code",
   "execution_count": null,
   "outputs": [],
   "source": [],
   "metadata": {
    "collapsed": false
   }
  }
 ],
 "metadata": {
  "kernelspec": {
   "display_name": "Python 3",
   "language": "python",
   "name": "python3"
  },
  "language_info": {
   "codemirror_mode": {
    "name": "ipython",
    "version": 2
   },
   "file_extension": ".py",
   "mimetype": "text/x-python",
   "name": "python",
   "nbconvert_exporter": "python",
   "pygments_lexer": "ipython2",
   "version": "2.7.6"
  }
 },
 "nbformat": 4,
 "nbformat_minor": 0
}
