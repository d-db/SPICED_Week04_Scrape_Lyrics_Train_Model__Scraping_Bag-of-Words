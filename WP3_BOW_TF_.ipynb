{
 "cells": [
  {
   "cell_type": "code",
   "execution_count": 1,
   "metadata": {
    "collapsed": true
   },
   "outputs": [],
   "source": [
    "import pandas as pd\n",
    "import pickle5 as pickle\n",
    "\n",
    "from sklearn.feature_extraction.text import CountVectorizer\n",
    "from sklearn.feature_extraction.text import TfidfTransformer\n",
    "from sklearn.linear_model import LogisticRegression\n",
    "from sklearn.model_selection import train_test_split\n",
    "\n",
    "# to visualize the column transformer and pipeline\n",
    "from sklearn import set_config\n",
    "set_config(display='diagram')"
   ]
  },
  {
   "cell_type": "markdown",
   "source": [
    "## Load the dicts with the lyrics"
   ],
   "metadata": {
    "collapsed": false
   }
  },
  {
   "cell_type": "code",
   "execution_count": 2,
   "outputs": [],
   "source": [
    "with open('./data/lyrics_fa.pkl', 'rb') as f:\n",
    "    all_lyrics_fr = pickle.load(f)"
   ],
   "metadata": {
    "collapsed": false
   }
  },
  {
   "cell_type": "code",
   "execution_count": 3,
   "outputs": [],
   "source": [
    "with open('./data/lyrics_ga.pkl', 'rb') as f:\n",
    "    all_lyrics_ga = pickle.load(f)"
   ],
   "metadata": {
    "collapsed": false
   }
  },
  {
   "cell_type": "code",
   "execution_count": 4,
   "outputs": [],
   "source": [
    "with open('./data/lyrics_lc.pkl', 'rb') as f:\n",
    "    all_lyrics_lc = pickle.load(f)"
   ],
   "metadata": {
    "collapsed": false
   }
  },
  {
   "cell_type": "markdown",
   "source": [
    "# 1. Compare two rock bands"
   ],
   "metadata": {
    "collapsed": false
   }
  },
  {
   "cell_type": "markdown",
   "source": [
    "## 1.1 Create the corpus with 30 songs each (Rock/Rock)"
   ],
   "metadata": {
    "collapsed": false
   }
  },
  {
   "cell_type": "code",
   "execution_count": 5,
   "outputs": [],
   "source": [
    "lyrics_list_fr = [value for value in all_lyrics_fr.values()][:30]"
   ],
   "metadata": {
    "collapsed": false
   }
  },
  {
   "cell_type": "code",
   "execution_count": 6,
   "outputs": [],
   "source": [
    "lyrics_list_ga = [value for value in all_lyrics_ga.values()][:30]"
   ],
   "metadata": {
    "collapsed": false
   }
  },
  {
   "cell_type": "code",
   "execution_count": 7,
   "outputs": [],
   "source": [
    "#Create the corpus by concatenating the two list\n",
    "corpus_rr = lyrics_list_fr + lyrics_list_ga"
   ],
   "metadata": {
    "collapsed": false
   }
  },
  {
   "cell_type": "code",
   "execution_count": 8,
   "outputs": [
    {
     "data": {
      "text/plain": "60"
     },
     "execution_count": 8,
     "metadata": {},
     "output_type": "execute_result"
    }
   ],
   "source": [
    "labels_rr = [\"Frightened Rabbit\"] * 30 + [\"Gaslight Anthem\"] * 30\n",
    "len(labels_rr)"
   ],
   "metadata": {
    "collapsed": false
   }
  },
  {
   "cell_type": "markdown",
   "source": [
    "## 1.2 CountVectorize() the corpus (Rock/Rock)"
   ],
   "metadata": {
    "collapsed": false
   }
  },
  {
   "cell_type": "code",
   "execution_count": 12,
   "outputs": [
    {
     "data": {
      "text/plain": "(60, 1422)"
     },
     "execution_count": 12,
     "metadata": {},
     "output_type": "execute_result"
    }
   ],
   "source": [
    "#Pure Vecotrizer\n",
    "vectorizer = CountVectorizer()\n",
    "X_rr = vectorizer.fit_transform(corpus_rr)\n",
    "X_df_rr = pd.DataFrame(X_rr.todense(), columns=vectorizer.get_feature_names_out(), index=labels_rr)\n",
    "X_df_rr.shape"
   ],
   "metadata": {
    "collapsed": false
   }
  },
  {
   "cell_type": "code",
   "execution_count": 13,
   "outputs": [
    {
     "data": {
      "text/plain": "(60, 1229)"
     },
     "execution_count": 13,
     "metadata": {},
     "output_type": "execute_result"
    }
   ],
   "source": [
    "#Remove 'stop words'\n",
    "vectorizer = CountVectorizer(stop_words=\"english\")\n",
    "X_rr = vectorizer.fit_transform(corpus_rr)\n",
    "X_df_rr = pd.DataFrame(X_rr.todense(), columns=vectorizer.get_feature_names_out(), index=labels_rr)\n",
    "X_df_rr.shape"
   ],
   "metadata": {
    "collapsed": false
   }
  },
  {
   "cell_type": "code",
   "execution_count": 14,
   "outputs": [
    {
     "data": {
      "text/plain": "(60, 1143)"
     },
     "execution_count": 14,
     "metadata": {},
     "output_type": "execute_result"
    }
   ],
   "source": [
    "#Remove words that occure in more than x% of the songs\n",
    "vectorizer = CountVectorizer(stop_words=\"english\", max_df=0.1)\n",
    "X_rr = vectorizer.fit_transform(corpus_rr)\n",
    "X_df_rr = pd.DataFrame(X_rr.todense(), columns=vectorizer.get_feature_names_out(), index=labels_rr)\n",
    "X_df_rr.shape"
   ],
   "metadata": {
    "collapsed": false
   }
  },
  {
   "cell_type": "markdown",
   "source": [
    "## 1.3 Apply TI-IDF (Rock/Rock)"
   ],
   "metadata": {
    "collapsed": false
   }
  },
  {
   "cell_type": "code",
   "execution_count": 15,
   "outputs": [],
   "source": [
    "tf = TfidfTransformer()\n",
    "X_norm_rr = tf.fit_transform(X_rr)"
   ],
   "metadata": {
    "collapsed": false
   }
  },
  {
   "cell_type": "markdown",
   "source": [
    "## 1.4 Classification Model (Rock/Rock)"
   ],
   "metadata": {
    "collapsed": false
   }
  },
  {
   "cell_type": "code",
   "execution_count": 16,
   "outputs": [],
   "source": [
    "X_rr=X_norm_rr\n",
    "y_rr=labels_rr"
   ],
   "metadata": {
    "collapsed": false
   }
  },
  {
   "cell_type": "code",
   "execution_count": 18,
   "outputs": [],
   "source": [
    "X_train, X_test, y_train, y_test = train_test_split(X_rr,y_rr, random_state=42)"
   ],
   "metadata": {
    "collapsed": false
   }
  },
  {
   "cell_type": "code",
   "execution_count": 19,
   "outputs": [
    {
     "data": {
      "text/plain": "LogisticRegression()",
      "text/html": "<style>#sk-938eeb5f-c406-46ae-8a4e-6f1a49b5754a {color: black;background-color: white;}#sk-938eeb5f-c406-46ae-8a4e-6f1a49b5754a pre{padding: 0;}#sk-938eeb5f-c406-46ae-8a4e-6f1a49b5754a div.sk-toggleable {background-color: white;}#sk-938eeb5f-c406-46ae-8a4e-6f1a49b5754a label.sk-toggleable__label {cursor: pointer;display: block;width: 100%;margin-bottom: 0;padding: 0.3em;box-sizing: border-box;text-align: center;}#sk-938eeb5f-c406-46ae-8a4e-6f1a49b5754a label.sk-toggleable__label-arrow:before {content: \"▸\";float: left;margin-right: 0.25em;color: #696969;}#sk-938eeb5f-c406-46ae-8a4e-6f1a49b5754a label.sk-toggleable__label-arrow:hover:before {color: black;}#sk-938eeb5f-c406-46ae-8a4e-6f1a49b5754a div.sk-estimator:hover label.sk-toggleable__label-arrow:before {color: black;}#sk-938eeb5f-c406-46ae-8a4e-6f1a49b5754a div.sk-toggleable__content {max-height: 0;max-width: 0;overflow: hidden;text-align: left;background-color: #f0f8ff;}#sk-938eeb5f-c406-46ae-8a4e-6f1a49b5754a div.sk-toggleable__content pre {margin: 0.2em;color: black;border-radius: 0.25em;background-color: #f0f8ff;}#sk-938eeb5f-c406-46ae-8a4e-6f1a49b5754a input.sk-toggleable__control:checked~div.sk-toggleable__content {max-height: 200px;max-width: 100%;overflow: auto;}#sk-938eeb5f-c406-46ae-8a4e-6f1a49b5754a input.sk-toggleable__control:checked~label.sk-toggleable__label-arrow:before {content: \"▾\";}#sk-938eeb5f-c406-46ae-8a4e-6f1a49b5754a div.sk-estimator input.sk-toggleable__control:checked~label.sk-toggleable__label {background-color: #d4ebff;}#sk-938eeb5f-c406-46ae-8a4e-6f1a49b5754a div.sk-label input.sk-toggleable__control:checked~label.sk-toggleable__label {background-color: #d4ebff;}#sk-938eeb5f-c406-46ae-8a4e-6f1a49b5754a input.sk-hidden--visually {border: 0;clip: rect(1px 1px 1px 1px);clip: rect(1px, 1px, 1px, 1px);height: 1px;margin: -1px;overflow: hidden;padding: 0;position: absolute;width: 1px;}#sk-938eeb5f-c406-46ae-8a4e-6f1a49b5754a div.sk-estimator {font-family: monospace;background-color: #f0f8ff;border: 1px dotted black;border-radius: 0.25em;box-sizing: border-box;margin-bottom: 0.5em;}#sk-938eeb5f-c406-46ae-8a4e-6f1a49b5754a div.sk-estimator:hover {background-color: #d4ebff;}#sk-938eeb5f-c406-46ae-8a4e-6f1a49b5754a div.sk-parallel-item::after {content: \"\";width: 100%;border-bottom: 1px solid gray;flex-grow: 1;}#sk-938eeb5f-c406-46ae-8a4e-6f1a49b5754a div.sk-label:hover label.sk-toggleable__label {background-color: #d4ebff;}#sk-938eeb5f-c406-46ae-8a4e-6f1a49b5754a div.sk-serial::before {content: \"\";position: absolute;border-left: 1px solid gray;box-sizing: border-box;top: 2em;bottom: 0;left: 50%;}#sk-938eeb5f-c406-46ae-8a4e-6f1a49b5754a div.sk-serial {display: flex;flex-direction: column;align-items: center;background-color: white;padding-right: 0.2em;padding-left: 0.2em;}#sk-938eeb5f-c406-46ae-8a4e-6f1a49b5754a div.sk-item {z-index: 1;}#sk-938eeb5f-c406-46ae-8a4e-6f1a49b5754a div.sk-parallel {display: flex;align-items: stretch;justify-content: center;background-color: white;}#sk-938eeb5f-c406-46ae-8a4e-6f1a49b5754a div.sk-parallel::before {content: \"\";position: absolute;border-left: 1px solid gray;box-sizing: border-box;top: 2em;bottom: 0;left: 50%;}#sk-938eeb5f-c406-46ae-8a4e-6f1a49b5754a div.sk-parallel-item {display: flex;flex-direction: column;position: relative;background-color: white;}#sk-938eeb5f-c406-46ae-8a4e-6f1a49b5754a div.sk-parallel-item:first-child::after {align-self: flex-end;width: 50%;}#sk-938eeb5f-c406-46ae-8a4e-6f1a49b5754a div.sk-parallel-item:last-child::after {align-self: flex-start;width: 50%;}#sk-938eeb5f-c406-46ae-8a4e-6f1a49b5754a div.sk-parallel-item:only-child::after {width: 0;}#sk-938eeb5f-c406-46ae-8a4e-6f1a49b5754a div.sk-dashed-wrapped {border: 1px dashed gray;margin: 0 0.4em 0.5em 0.4em;box-sizing: border-box;padding-bottom: 0.4em;background-color: white;position: relative;}#sk-938eeb5f-c406-46ae-8a4e-6f1a49b5754a div.sk-label label {font-family: monospace;font-weight: bold;background-color: white;display: inline-block;line-height: 1.2em;}#sk-938eeb5f-c406-46ae-8a4e-6f1a49b5754a div.sk-label-container {position: relative;z-index: 2;text-align: center;}#sk-938eeb5f-c406-46ae-8a4e-6f1a49b5754a div.sk-container {/* jupyter's `normalize.less` sets `[hidden] { display: none; }` but bootstrap.min.css set `[hidden] { display: none !important; }` so we also need the `!important` here to be able to override the default hidden behavior on the sphinx rendered scikit-learn.org. See: https://github.com/scikit-learn/scikit-learn/issues/21755 */display: inline-block !important;position: relative;}#sk-938eeb5f-c406-46ae-8a4e-6f1a49b5754a div.sk-text-repr-fallback {display: none;}</style><div id=\"sk-938eeb5f-c406-46ae-8a4e-6f1a49b5754a\" class=\"sk-top-container\"><div class=\"sk-text-repr-fallback\"><pre>LogisticRegression()</pre><b>Please rerun this cell to show the HTML repr or trust the notebook.</b></div><div class=\"sk-container\" hidden><div class=\"sk-item\"><div class=\"sk-estimator sk-toggleable\"><input class=\"sk-toggleable__control sk-hidden--visually\" id=\"c8a30750-3edf-455f-ac85-9e816644295a\" type=\"checkbox\" checked><label for=\"c8a30750-3edf-455f-ac85-9e816644295a\" class=\"sk-toggleable__label sk-toggleable__label-arrow\">LogisticRegression</label><div class=\"sk-toggleable__content\"><pre>LogisticRegression()</pre></div></div></div></div></div>"
     },
     "execution_count": 19,
     "metadata": {},
     "output_type": "execute_result"
    }
   ],
   "source": [
    "m = LogisticRegression()\n",
    "m.fit(X_train, y_train)"
   ],
   "metadata": {
    "collapsed": false
   }
  },
  {
   "cell_type": "code",
   "execution_count": 20,
   "outputs": [
    {
     "name": "stdout",
     "output_type": "stream",
     "text": [
      "Comparison of two Rock artists:\n",
      "The R2-score for the test data is 0.067 and 0.756 for the train data\n"
     ]
    }
   ],
   "source": [
    "print(f\"Comparison of two Rock artists:\\n\"\n",
    "      f\"The R2-score for the test data is {round(m.score(X_test, y_test),3)} and {round(m.score(X_train, y_train), 3)} for the train data\")"
   ],
   "metadata": {
    "collapsed": false
   }
  },
  {
   "cell_type": "markdown",
   "source": [
    "# 2. Compare a rock band and a rap artist"
   ],
   "metadata": {
    "collapsed": false
   }
  },
  {
   "cell_type": "markdown",
   "source": [
    "## 2.1 Create the corpus with 30 rock and 27 rap songs"
   ],
   "metadata": {
    "collapsed": false
   }
  },
  {
   "cell_type": "code",
   "execution_count": 22,
   "outputs": [],
   "source": [
    "lyrics_list_lc = [value for value in all_lyrics_lc.values()]"
   ],
   "metadata": {
    "collapsed": false
   }
  },
  {
   "cell_type": "code",
   "execution_count": 23,
   "outputs": [],
   "source": [
    "#Create the corpus by concatenating the two list\n",
    "corpus_rh = lyrics_list_ga + lyrics_list_lc"
   ],
   "metadata": {
    "collapsed": false
   }
  },
  {
   "cell_type": "code",
   "execution_count": 26,
   "outputs": [],
   "source": [
    "labels_rh = [\"Gaslight Anthem\"] * 30 + [\"Loyale Carner\"] * 27"
   ],
   "metadata": {
    "collapsed": false
   }
  },
  {
   "cell_type": "markdown",
   "source": [
    "## 2.2 CountVectorize() the corpus (Rock/Rap)"
   ],
   "metadata": {
    "collapsed": false
   }
  },
  {
   "cell_type": "code",
   "execution_count": 21,
   "outputs": [
    {
     "data": {
      "text/plain": "(57, 2860)"
     },
     "execution_count": 21,
     "metadata": {},
     "output_type": "execute_result"
    }
   ],
   "source": [
    "#Pure Vecotrizer\n",
    "vectorizer = CountVectorizer()\n",
    "X_rh = vectorizer.fit_transform(corpus_rh)\n",
    "X_df_rh = pd.DataFrame(X_rh.todense(), columns=vectorizer.get_feature_names_out(), index=labels_rh)\n",
    "X_df_rh.shape"
   ],
   "metadata": {
    "collapsed": false
   }
  },
  {
   "cell_type": "code",
   "execution_count": 27,
   "outputs": [
    {
     "data": {
      "text/plain": "(57, 2632)"
     },
     "execution_count": 27,
     "metadata": {},
     "output_type": "execute_result"
    }
   ],
   "source": [
    "#Remove 'stop words'\n",
    "vectorizer = CountVectorizer(stop_words=\"english\")\n",
    "X_rh = vectorizer.fit_transform(corpus_rh)\n",
    "X_df_rh = pd.DataFrame(X_rh.todense(), columns=vectorizer.get_feature_names_out(), index=labels_rh)\n",
    "X_df_rh.shape"
   ],
   "metadata": {
    "collapsed": false
   }
  },
  {
   "cell_type": "code",
   "execution_count": 28,
   "outputs": [
    {
     "data": {
      "text/plain": "(57, 2459)"
     },
     "execution_count": 28,
     "metadata": {},
     "output_type": "execute_result"
    }
   ],
   "source": [
    "#Remove words that occure in more than x% of the songs\n",
    "vectorizer = CountVectorizer(stop_words=\"english\", max_df=0.1)\n",
    "X_rh = vectorizer.fit_transform(corpus_rh)\n",
    "X_df_rh = pd.DataFrame(X_rh.todense(), columns=vectorizer.get_feature_names_out(), index=labels_rh)\n",
    "X_df_rh.shape"
   ],
   "metadata": {
    "collapsed": false
   }
  },
  {
   "cell_type": "markdown",
   "source": [
    "## 2.3 Apply TI-IDF (Rock/Rap)"
   ],
   "metadata": {
    "collapsed": false
   }
  },
  {
   "cell_type": "code",
   "execution_count": 31,
   "outputs": [],
   "source": [
    "tf = TfidfTransformer()\n",
    "X_norm_rh = tf.fit_transform(X_rh)"
   ],
   "metadata": {
    "collapsed": false
   }
  },
  {
   "cell_type": "markdown",
   "source": [
    "## 2.4 Classification Model (Rock/Rap)"
   ],
   "metadata": {
    "collapsed": false
   }
  },
  {
   "cell_type": "code",
   "execution_count": 32,
   "outputs": [],
   "source": [
    "X_rh=X_norm_rh\n",
    "y_rh=labels_rh"
   ],
   "metadata": {
    "collapsed": false
   }
  },
  {
   "cell_type": "code",
   "execution_count": 33,
   "outputs": [],
   "source": [
    "X_train, X_test, y_train, y_test = train_test_split(X_rh,y_rh, random_state=42)"
   ],
   "metadata": {
    "collapsed": false
   }
  },
  {
   "cell_type": "code",
   "execution_count": 34,
   "outputs": [
    {
     "data": {
      "text/plain": "LogisticRegression()",
      "text/html": "<style>#sk-950ecc84-b1ff-4b36-918b-83c2ea71f828 {color: black;background-color: white;}#sk-950ecc84-b1ff-4b36-918b-83c2ea71f828 pre{padding: 0;}#sk-950ecc84-b1ff-4b36-918b-83c2ea71f828 div.sk-toggleable {background-color: white;}#sk-950ecc84-b1ff-4b36-918b-83c2ea71f828 label.sk-toggleable__label {cursor: pointer;display: block;width: 100%;margin-bottom: 0;padding: 0.3em;box-sizing: border-box;text-align: center;}#sk-950ecc84-b1ff-4b36-918b-83c2ea71f828 label.sk-toggleable__label-arrow:before {content: \"▸\";float: left;margin-right: 0.25em;color: #696969;}#sk-950ecc84-b1ff-4b36-918b-83c2ea71f828 label.sk-toggleable__label-arrow:hover:before {color: black;}#sk-950ecc84-b1ff-4b36-918b-83c2ea71f828 div.sk-estimator:hover label.sk-toggleable__label-arrow:before {color: black;}#sk-950ecc84-b1ff-4b36-918b-83c2ea71f828 div.sk-toggleable__content {max-height: 0;max-width: 0;overflow: hidden;text-align: left;background-color: #f0f8ff;}#sk-950ecc84-b1ff-4b36-918b-83c2ea71f828 div.sk-toggleable__content pre {margin: 0.2em;color: black;border-radius: 0.25em;background-color: #f0f8ff;}#sk-950ecc84-b1ff-4b36-918b-83c2ea71f828 input.sk-toggleable__control:checked~div.sk-toggleable__content {max-height: 200px;max-width: 100%;overflow: auto;}#sk-950ecc84-b1ff-4b36-918b-83c2ea71f828 input.sk-toggleable__control:checked~label.sk-toggleable__label-arrow:before {content: \"▾\";}#sk-950ecc84-b1ff-4b36-918b-83c2ea71f828 div.sk-estimator input.sk-toggleable__control:checked~label.sk-toggleable__label {background-color: #d4ebff;}#sk-950ecc84-b1ff-4b36-918b-83c2ea71f828 div.sk-label input.sk-toggleable__control:checked~label.sk-toggleable__label {background-color: #d4ebff;}#sk-950ecc84-b1ff-4b36-918b-83c2ea71f828 input.sk-hidden--visually {border: 0;clip: rect(1px 1px 1px 1px);clip: rect(1px, 1px, 1px, 1px);height: 1px;margin: -1px;overflow: hidden;padding: 0;position: absolute;width: 1px;}#sk-950ecc84-b1ff-4b36-918b-83c2ea71f828 div.sk-estimator {font-family: monospace;background-color: #f0f8ff;border: 1px dotted black;border-radius: 0.25em;box-sizing: border-box;margin-bottom: 0.5em;}#sk-950ecc84-b1ff-4b36-918b-83c2ea71f828 div.sk-estimator:hover {background-color: #d4ebff;}#sk-950ecc84-b1ff-4b36-918b-83c2ea71f828 div.sk-parallel-item::after {content: \"\";width: 100%;border-bottom: 1px solid gray;flex-grow: 1;}#sk-950ecc84-b1ff-4b36-918b-83c2ea71f828 div.sk-label:hover label.sk-toggleable__label {background-color: #d4ebff;}#sk-950ecc84-b1ff-4b36-918b-83c2ea71f828 div.sk-serial::before {content: \"\";position: absolute;border-left: 1px solid gray;box-sizing: border-box;top: 2em;bottom: 0;left: 50%;}#sk-950ecc84-b1ff-4b36-918b-83c2ea71f828 div.sk-serial {display: flex;flex-direction: column;align-items: center;background-color: white;padding-right: 0.2em;padding-left: 0.2em;}#sk-950ecc84-b1ff-4b36-918b-83c2ea71f828 div.sk-item {z-index: 1;}#sk-950ecc84-b1ff-4b36-918b-83c2ea71f828 div.sk-parallel {display: flex;align-items: stretch;justify-content: center;background-color: white;}#sk-950ecc84-b1ff-4b36-918b-83c2ea71f828 div.sk-parallel::before {content: \"\";position: absolute;border-left: 1px solid gray;box-sizing: border-box;top: 2em;bottom: 0;left: 50%;}#sk-950ecc84-b1ff-4b36-918b-83c2ea71f828 div.sk-parallel-item {display: flex;flex-direction: column;position: relative;background-color: white;}#sk-950ecc84-b1ff-4b36-918b-83c2ea71f828 div.sk-parallel-item:first-child::after {align-self: flex-end;width: 50%;}#sk-950ecc84-b1ff-4b36-918b-83c2ea71f828 div.sk-parallel-item:last-child::after {align-self: flex-start;width: 50%;}#sk-950ecc84-b1ff-4b36-918b-83c2ea71f828 div.sk-parallel-item:only-child::after {width: 0;}#sk-950ecc84-b1ff-4b36-918b-83c2ea71f828 div.sk-dashed-wrapped {border: 1px dashed gray;margin: 0 0.4em 0.5em 0.4em;box-sizing: border-box;padding-bottom: 0.4em;background-color: white;position: relative;}#sk-950ecc84-b1ff-4b36-918b-83c2ea71f828 div.sk-label label {font-family: monospace;font-weight: bold;background-color: white;display: inline-block;line-height: 1.2em;}#sk-950ecc84-b1ff-4b36-918b-83c2ea71f828 div.sk-label-container {position: relative;z-index: 2;text-align: center;}#sk-950ecc84-b1ff-4b36-918b-83c2ea71f828 div.sk-container {/* jupyter's `normalize.less` sets `[hidden] { display: none; }` but bootstrap.min.css set `[hidden] { display: none !important; }` so we also need the `!important` here to be able to override the default hidden behavior on the sphinx rendered scikit-learn.org. See: https://github.com/scikit-learn/scikit-learn/issues/21755 */display: inline-block !important;position: relative;}#sk-950ecc84-b1ff-4b36-918b-83c2ea71f828 div.sk-text-repr-fallback {display: none;}</style><div id=\"sk-950ecc84-b1ff-4b36-918b-83c2ea71f828\" class=\"sk-top-container\"><div class=\"sk-text-repr-fallback\"><pre>LogisticRegression()</pre><b>Please rerun this cell to show the HTML repr or trust the notebook.</b></div><div class=\"sk-container\" hidden><div class=\"sk-item\"><div class=\"sk-estimator sk-toggleable\"><input class=\"sk-toggleable__control sk-hidden--visually\" id=\"8d4f6067-a0fa-429c-bda1-27f5ea9e27a3\" type=\"checkbox\" checked><label for=\"8d4f6067-a0fa-429c-bda1-27f5ea9e27a3\" class=\"sk-toggleable__label sk-toggleable__label-arrow\">LogisticRegression</label><div class=\"sk-toggleable__content\"><pre>LogisticRegression()</pre></div></div></div></div></div>"
     },
     "execution_count": 34,
     "metadata": {},
     "output_type": "execute_result"
    }
   ],
   "source": [
    "m = LogisticRegression()\n",
    "m.fit(X_train, y_train)"
   ],
   "metadata": {
    "collapsed": false
   }
  },
  {
   "cell_type": "code",
   "execution_count": 35,
   "outputs": [
    {
     "name": "stdout",
     "output_type": "stream",
     "text": [
      "Comparison of a rock group and a rap artist:\n",
      "The R2-score for the test data is 0.667 and 1.0 for the train data\n"
     ]
    }
   ],
   "source": [
    "print(f\"Comparison of a rock group and a rap artist:\\n\"\n",
    "      f\"The R2-score for the test data is {round(m.score(X_test, y_test),3)} and {round(m.score(X_train, y_train), 3)} for the train data\")"
   ],
   "metadata": {
    "collapsed": false
   }
  }
 ],
 "metadata": {
  "kernelspec": {
   "display_name": "Python 3",
   "language": "python",
   "name": "python3"
  },
  "language_info": {
   "codemirror_mode": {
    "name": "ipython",
    "version": 2
   },
   "file_extension": ".py",
   "mimetype": "text/x-python",
   "name": "python",
   "nbconvert_exporter": "python",
   "pygments_lexer": "ipython2",
   "version": "2.7.6"
  }
 },
 "nbformat": 4,
 "nbformat_minor": 0
}
